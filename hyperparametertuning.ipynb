{
 "cells": [
  {
   "cell_type": "markdown",
   "id": "85280cde",
   "metadata": {},
   "source": [
    "### Determining the optimal number of hidden layers and neurons for an Artificial Neural Network (ANN) "
   ]
  },
  {
   "cell_type": "code",
   "execution_count": 2,
   "id": "5215a664",
   "metadata": {},
   "outputs": [
    {
     "name": "stdout",
     "output_type": "stream",
     "text": [
      "WARNING:tensorflow:From c:\\Projects\\ANN Classification\\venv\\Lib\\site-packages\\keras\\src\\losses.py:2976: The name tf.losses.sparse_softmax_cross_entropy is deprecated. Please use tf.compat.v1.losses.sparse_softmax_cross_entropy instead.\n",
      "\n"
     ]
    }
   ],
   "source": [
    "import pandas as pd\n",
    "from sklearn.model_selection import train_test_split, GridSearchCV\n",
    "from sklearn.preprocessing import StandardScaler, LabelEncoder, OneHotEncoder\n",
    "from sklearn.pipeline import Pipeline\n",
    "from scikeras.wrappers import KerasClassifier\n",
    "import tensorflow as tf\n",
    "from tensorflow.keras.models import Sequential\n",
    "from tensorflow.keras.layers import Dense\n",
    "from tensorflow.keras.callbacks import EarlyStopping\n",
    "import pickle"
   ]
  },
  {
   "cell_type": "code",
   "execution_count": 3,
   "id": "5135f63e",
   "metadata": {},
   "outputs": [],
   "source": [
    "data=pd.read_csv('Churn_Modelling.csv')\n",
    "data = data.drop(['RowNumber', 'CustomerId', 'Surname'], axis=1)\n",
    "\n",
    "label_encoder_gender = LabelEncoder()\n",
    "data['Gender'] = label_encoder_gender.fit_transform(data['Gender'])\n",
    "\n",
    "onehot_encoder_geo = OneHotEncoder(handle_unknown='ignore')\n",
    "geo_encoded = onehot_encoder_geo.fit_transform(data[['Geography']]).toarray()\n",
    "geo_encoded_df = pd.DataFrame(geo_encoded, columns=onehot_encoder_geo.get_feature_names_out(['Geography']))\n",
    "\n",
    "data = pd.concat([data.drop('Geography', axis=1), geo_encoded_df], axis=1)\n",
    "\n",
    "X = data.drop('Exited', axis=1)\n",
    "y = data['Exited']\n",
    "\n",
    "X_train, X_test, y_train, y_test = train_test_split(X, y, test_size=0.2, random_state=42)\n",
    "\n",
    "scaler = StandardScaler()\n",
    "X_train = scaler.fit_transform(X_train)\n",
    "X_test = scaler.transform(X_test)\n",
    "\n",
    "# Save encoders and scaler for later use\n",
    "with open('label_encoder_gender.pkl', 'wb') as file:\n",
    "    pickle.dump(label_encoder_gender, file)\n",
    "\n",
    "with open('onehot_encoder_geo.pkl', 'wb') as file:\n",
    "    pickle.dump(onehot_encoder_geo, file)\n",
    "\n",
    "with open('scaler.pkl', 'wb') as file:\n",
    "    pickle.dump(scaler, file)"
   ]
  },
  {
   "cell_type": "code",
   "execution_count": null,
   "id": "ef13fbf0",
   "metadata": {},
   "outputs": [],
   "source": []
  },
  {
   "cell_type": "code",
   "execution_count": 5,
   "id": "6c2aac73",
   "metadata": {},
   "outputs": [],
   "source": [
    "## Define a function to create the model and try different parameters(KerasClassifier)\n",
    "\n",
    "def create_model(neurons=32,layers=1):\n",
    "    model=Sequential()\n",
    "    model.add(Dense(neurons,activation='relu',input_shape=(X_train.shape[1],)))\n",
    "\n",
    "    for _ in range(layers-1):\n",
    "        model.add(Dense(neurons,activation='relu'))\n",
    "\n",
    "    model.add(Dense(1,activation='sigmoid'))\n",
    "    model.compile(optimizer='adam',loss=\"binary_crossentropy\",metrics=['accuracy'])\n",
    "\n",
    "    return model\n",
    "\n"
   ]
  },
  {
   "cell_type": "code",
   "execution_count": 6,
   "id": "76424ac0",
   "metadata": {},
   "outputs": [],
   "source": [
    "## Create a Keras classifier\n",
    "model=KerasClassifier(layers=1,neurons=32,build_fn=create_model,verbose=1)"
   ]
  },
  {
   "cell_type": "code",
   "execution_count": 7,
   "id": "fe249779",
   "metadata": {},
   "outputs": [],
   "source": [
    "# Define the grid search parameters\n",
    "param_grid = {\n",
    "    'neurons': [16, 32, 64, 128],\n",
    "    'layers': [1, 2],\n",
    "    'epochs': [50, 100]\n",
    "}"
   ]
  },
  {
   "cell_type": "code",
   "execution_count": 8,
   "id": "ee96dbc5",
   "metadata": {},
   "outputs": [
    {
     "name": "stdout",
     "output_type": "stream",
     "text": [
      "Fitting 3 folds for each of 16 candidates, totalling 48 fits\n",
      "WARNING:tensorflow:From c:\\Projects\\ANN Classification\\venv\\Lib\\site-packages\\keras\\src\\backend.py:873: The name tf.get_default_graph is deprecated. Please use tf.compat.v1.get_default_graph instead.\n",
      "\n"
     ]
    },
    {
     "name": "stderr",
     "output_type": "stream",
     "text": [
      "c:\\Projects\\ANN Classification\\venv\\Lib\\site-packages\\scikeras\\wrappers.py:915: UserWarning: ``build_fn`` will be renamed to ``model`` in a future release, at which point use of ``build_fn`` will raise an Error instead.\n",
      "  X, y = self._initialize(X, y)\n"
     ]
    },
    {
     "name": "stdout",
     "output_type": "stream",
     "text": [
      "WARNING:tensorflow:From c:\\Projects\\ANN Classification\\venv\\Lib\\site-packages\\keras\\src\\optimizers\\__init__.py:309: The name tf.train.Optimizer is deprecated. Please use tf.compat.v1.train.Optimizer instead.\n",
      "\n",
      "Epoch 1/50\n",
      "WARNING:tensorflow:From c:\\Projects\\ANN Classification\\venv\\Lib\\site-packages\\keras\\src\\utils\\tf_utils.py:492: The name tf.ragged.RaggedTensorValue is deprecated. Please use tf.compat.v1.ragged.RaggedTensorValue instead.\n",
      "\n",
      "WARNING:tensorflow:From c:\\Projects\\ANN Classification\\venv\\Lib\\site-packages\\keras\\src\\engine\\base_layer_utils.py:384: The name tf.executing_eagerly_outside_functions is deprecated. Please use tf.compat.v1.executing_eagerly_outside_functions instead.\n",
      "\n",
      "250/250 [==============================] - 1s 1ms/step - loss: 0.4701 - accuracy: 0.7915\n",
      "Epoch 2/50\n",
      "250/250 [==============================] - 0s 901us/step - loss: 0.4098 - accuracy: 0.8269\n",
      "Epoch 3/50\n",
      "250/250 [==============================] - 0s 1ms/step - loss: 0.3858 - accuracy: 0.8435\n",
      "Epoch 4/50\n",
      "250/250 [==============================] - 0s 871us/step - loss: 0.3684 - accuracy: 0.8494\n",
      "Epoch 5/50\n",
      "250/250 [==============================] - 0s 1ms/step - loss: 0.3575 - accuracy: 0.8543\n",
      "Epoch 6/50\n",
      "250/250 [==============================] - 0s 918us/step - loss: 0.3515 - accuracy: 0.8546\n",
      "Epoch 7/50\n",
      "250/250 [==============================] - 0s 908us/step - loss: 0.3480 - accuracy: 0.8575\n",
      "Epoch 8/50\n",
      "250/250 [==============================] - 0s 882us/step - loss: 0.3449 - accuracy: 0.8586\n",
      "Epoch 9/50\n",
      "250/250 [==============================] - 0s 908us/step - loss: 0.3428 - accuracy: 0.8579\n",
      "Epoch 10/50\n",
      "250/250 [==============================] - 0s 884us/step - loss: 0.3416 - accuracy: 0.8589\n",
      "Epoch 11/50\n",
      "250/250 [==============================] - 0s 956us/step - loss: 0.3401 - accuracy: 0.8599\n",
      "Epoch 12/50\n",
      "250/250 [==============================] - 0s 894us/step - loss: 0.3391 - accuracy: 0.8593\n",
      "Epoch 13/50\n",
      "250/250 [==============================] - 0s 914us/step - loss: 0.3389 - accuracy: 0.8579\n",
      "Epoch 14/50\n",
      "250/250 [==============================] - 0s 1ms/step - loss: 0.3378 - accuracy: 0.8604\n",
      "Epoch 15/50\n",
      "250/250 [==============================] - 0s 884us/step - loss: 0.3369 - accuracy: 0.8593\n",
      "Epoch 16/50\n",
      "250/250 [==============================] - 0s 899us/step - loss: 0.3359 - accuracy: 0.8633\n",
      "Epoch 17/50\n",
      "250/250 [==============================] - 0s 902us/step - loss: 0.3351 - accuracy: 0.8612\n",
      "Epoch 18/50\n",
      "250/250 [==============================] - 0s 909us/step - loss: 0.3347 - accuracy: 0.8601\n",
      "Epoch 19/50\n",
      "250/250 [==============================] - 0s 957us/step - loss: 0.3338 - accuracy: 0.8600\n",
      "Epoch 20/50\n",
      "250/250 [==============================] - 0s 893us/step - loss: 0.3335 - accuracy: 0.8602\n",
      "Epoch 21/50\n",
      "250/250 [==============================] - 0s 884us/step - loss: 0.3323 - accuracy: 0.8639\n",
      "Epoch 22/50\n",
      "250/250 [==============================] - 0s 924us/step - loss: 0.3323 - accuracy: 0.8595\n",
      "Epoch 23/50\n",
      "250/250 [==============================] - 0s 1ms/step - loss: 0.3323 - accuracy: 0.8620\n",
      "Epoch 24/50\n",
      "250/250 [==============================] - 0s 927us/step - loss: 0.3319 - accuracy: 0.8615\n",
      "Epoch 25/50\n",
      "250/250 [==============================] - 0s 904us/step - loss: 0.3306 - accuracy: 0.8644\n",
      "Epoch 26/50\n",
      "250/250 [==============================] - 0s 878us/step - loss: 0.3301 - accuracy: 0.8637\n",
      "Epoch 27/50\n",
      "250/250 [==============================] - 0s 942us/step - loss: 0.3303 - accuracy: 0.8626\n",
      "Epoch 28/50\n",
      "250/250 [==============================] - 0s 875us/step - loss: 0.3304 - accuracy: 0.8648\n",
      "Epoch 29/50\n",
      "250/250 [==============================] - 0s 883us/step - loss: 0.3287 - accuracy: 0.8643\n",
      "Epoch 30/50\n",
      "250/250 [==============================] - 0s 900us/step - loss: 0.3287 - accuracy: 0.8645\n",
      "Epoch 31/50\n",
      "250/250 [==============================] - 0s 855us/step - loss: 0.3288 - accuracy: 0.8652\n",
      "Epoch 32/50\n",
      "250/250 [==============================] - 0s 1ms/step - loss: 0.3281 - accuracy: 0.8660\n",
      "Epoch 33/50\n",
      "250/250 [==============================] - 0s 1ms/step - loss: 0.3274 - accuracy: 0.8635\n",
      "Epoch 34/50\n",
      "250/250 [==============================] - 0s 880us/step - loss: 0.3277 - accuracy: 0.8651\n",
      "Epoch 35/50\n",
      "250/250 [==============================] - 0s 896us/step - loss: 0.3276 - accuracy: 0.8639\n",
      "Epoch 36/50\n",
      "250/250 [==============================] - 0s 872us/step - loss: 0.3270 - accuracy: 0.8654\n",
      "Epoch 37/50\n",
      "250/250 [==============================] - 0s 918us/step - loss: 0.3271 - accuracy: 0.8651\n",
      "Epoch 38/50\n",
      "250/250 [==============================] - 0s 904us/step - loss: 0.3263 - accuracy: 0.8640\n",
      "Epoch 39/50\n",
      "250/250 [==============================] - 0s 867us/step - loss: 0.3262 - accuracy: 0.8659\n",
      "Epoch 40/50\n",
      "250/250 [==============================] - 0s 897us/step - loss: 0.3256 - accuracy: 0.8641\n",
      "Epoch 41/50\n",
      "250/250 [==============================] - 0s 883us/step - loss: 0.3251 - accuracy: 0.8652\n",
      "Epoch 42/50\n",
      "250/250 [==============================] - 0s 1ms/step - loss: 0.3249 - accuracy: 0.8666\n",
      "Epoch 43/50\n",
      "250/250 [==============================] - 0s 902us/step - loss: 0.3244 - accuracy: 0.8685\n",
      "Epoch 44/50\n",
      "250/250 [==============================] - 0s 883us/step - loss: 0.3232 - accuracy: 0.8652\n",
      "Epoch 45/50\n",
      "250/250 [==============================] - 0s 928us/step - loss: 0.3228 - accuracy: 0.8668\n",
      "Epoch 46/50\n",
      "250/250 [==============================] - 0s 875us/step - loss: 0.3219 - accuracy: 0.8668\n",
      "Epoch 47/50\n",
      "250/250 [==============================] - 0s 908us/step - loss: 0.3218 - accuracy: 0.8655\n",
      "Epoch 48/50\n",
      "250/250 [==============================] - 0s 872us/step - loss: 0.3212 - accuracy: 0.8677\n",
      "Epoch 49/50\n",
      "250/250 [==============================] - 0s 858us/step - loss: 0.3206 - accuracy: 0.8661\n",
      "Epoch 50/50\n",
      "250/250 [==============================] - 0s 893us/step - loss: 0.3191 - accuracy: 0.8684\n",
      "Best: 0.856500 using {'epochs': 50, 'layers': 1, 'neurons': 64}\n"
     ]
    }
   ],
   "source": [
    "# Perform grid search\n",
    "grid = GridSearchCV(estimator=model, param_grid=param_grid, n_jobs=-1, cv=3,verbose=1)\n",
    "grid_result = grid.fit(X_train, y_train)\n",
    "\n",
    "# Print the best parameters\n",
    "print(\"Best: %f using %s\" % (grid_result.best_score_, grid_result.best_params_))"
   ]
  },
  {
   "cell_type": "code",
   "execution_count": null,
   "id": "e89955af",
   "metadata": {},
   "outputs": [],
   "source": []
  }
 ],
 "metadata": {
  "kernelspec": {
   "display_name": "Python 3",
   "language": "python",
   "name": "python3"
  },
  "language_info": {
   "codemirror_mode": {
    "name": "ipython",
    "version": 3
   },
   "file_extension": ".py",
   "mimetype": "text/x-python",
   "name": "python",
   "nbconvert_exporter": "python",
   "pygments_lexer": "ipython3",
   "version": "3.11.0"
  }
 },
 "nbformat": 4,
 "nbformat_minor": 5
}
